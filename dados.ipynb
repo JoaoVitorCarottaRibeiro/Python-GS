{
 "cells": [
  {
   "cell_type": "code",
   "execution_count": null,
   "metadata": {},
   "outputs": [],
   "source": [
    "import pandas as pd"
   ]
  },
  {
   "cell_type": "code",
   "execution_count": null,
   "metadata": {},
   "outputs": [],
   "source": [
    "# Função para filtrar dados por ano\n",
    "def filtrar_por_ano(dados, ano):\n",
    "    \"\"\"Filtra os dados para um ano específico.\"\"\"\n",
    "    return dados[dados['Mes de Referencia'].str.contains(str(ano))]\n",
    "\n",
    "# Função para contar o número de liquidações por ano\n",
    "def contar_liquidacoes_por_ano(dados, ano):\n",
    "    \"\"\"Conta o número de liquidações para um ano específico.\"\"\"\n",
    "    dados_ano = filtrar_por_ano(dados, ano)\n",
    "    return len(dados_ano)\n",
    "\n",
    "# Função para identificar o mês com o maior número de liquidações\n",
    "def mes_com_mais_liquidacoes(dados):\n",
    "    \"\"\"Encontra o mês com o maior número de liquidações financeiras.\"\"\"\n",
    "    mes_counts = dados['Mes de Referencia'].value_counts()\n",
    "    mes_mais_frequente = mes_counts.idxmax()\n",
    "    quantidade = mes_counts.max()\n",
    "    return mes_mais_frequente, quantidade\n",
    "\n",
    "# Função para contar liquidações por dia da semana\n",
    "def liquida_por_dia(dados):\n",
    "    \"\"\"Conta quantas liquidações ocorreram em cada dia da semana.\"\"\"\n",
    "    dia_counts = dados['Dia da Semana'].value_counts()\n",
    "    return dia_counts\n",
    "\n",
    "# Função para analisar liquidações em um mês específico de todos os anos\n",
    "def liquida_por_mes(dados, mes):\n",
    "    \"\"\"Exibe as liquidações em um mês específico para todos os anos.\"\"\"\n",
    "    dados_mes = dados[dados['Mes de Referencia'].str.contains(mes)]\n",
    "    return dados_mes\n",
    "\n",
    "# Função para gerar insights sobre os dados\n",
    "def gerar_insights(dados):\n",
    "    \"\"\"Gera insights a partir dos dados de liquidações financeiras.\"\"\"\n",
    "    \n",
    "    # Insight 1: Mês com maior número de liquidações\n",
    "    mes_mais_frequente, quantidade = mes_com_mais_liquidacoes(dados)\n",
    "    print(f\"Insight 1: O mês com o maior número de liquidações é {mes_mais_frequente} com {quantidade} liquidações.\\n\")\n",
    "    \n",
    "    # Insight 2: Liquidações por dia da semana\n",
    "    print(\"Insight 2: Quantidade de liquidações por dia da semana:\")\n",
    "    dia_counts = liquida_por_dia(dados)\n",
    "    for dia, quantidade in dia_counts.items():\n",
    "        print(f\"{dia}: {quantidade} liquidações\")\n",
    "    print(\"\\n\")\n",
    "    \n",
    "    # Insight 3: Quantidade de liquidações por ano\n",
    "    print(\"Insight 3: Quantidade de liquidações por ano:\")\n",
    "    for ano in range(2013, 2026):\n",
    "        total_ano = contar_liquidacoes_por_ano(dados, ano)\n",
    "        print(f\"{ano}: {total_ano} liquidações\")\n",
    "    print(\"\\n\")\n",
    "\n",
    "    # Insight 4: Exibir liquidações em Janeiro\n",
    "    print(\"Insight 4: Liquidações em Janeiro para todos os anos:\")\n",
    "    dados_janeiro = liquida_por_mes(dados, \"Janeiro\")\n",
    "    print(dados_janeiro[['Mes de Referencia', 'Data da Liquidacao', 'Dia da Semana']])\n",
    "    print(\"\\n\")\n"
   ]
  },
  {
   "cell_type": "code",
   "execution_count": null,
   "metadata": {},
   "outputs": [],
   "source": []
  }
 ],
 "metadata": {
  "kernelspec": {
   "display_name": ".venv",
   "language": "python",
   "name": "python3"
  },
  "language_info": {
   "codemirror_mode": {
    "name": "ipython",
    "version": 3
   },
   "file_extension": ".py",
   "mimetype": "text/x-python",
   "name": "python",
   "nbconvert_exporter": "python",
   "pygments_lexer": "ipython3",
   "version": "3.11.5"
  }
 },
 "nbformat": 4,
 "nbformat_minor": 2
}
